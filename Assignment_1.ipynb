{
 "cells": [
  {
   "cell_type": "markdown",
   "metadata": {},
   "source": [
    "# Course of Action\n",
    "1. Clean dataset\n",
    "2. Scale dataset\n",
    "3. Split dataset"
   ]
  },
  {
   "cell_type": "code",
   "execution_count": 113,
   "metadata": {},
   "outputs": [],
   "source": [
    "# Importing the dataset\n",
    "import pandas\n",
    "\n",
    "dataset = pandas.read_csv(\"./AmesHousing.csv\");"
   ]
  },
  {
   "cell_type": "code",
   "execution_count": 115,
   "metadata": {},
   "outputs": [],
   "source": [
    "# Enumerating categorical values\n",
    "categories = {}\n",
    "for column in dataset.columns:\n",
    "\tif dataset[column].dtype == 'object':\n",
    "\t\tdataset[column], categories[column] = dataset[column].factorize()\n",
    "\t\t# Normalize stuff so Null values don't become -1\n",
    "\t\tdataset[column] += 1"
   ]
  },
  {
   "cell_type": "markdown",
   "metadata": {},
   "source": [
    "# Finding correlations between the variables\n",
    "By setting up a correlation table and printing it, we can find which values are good candidates for regression."
   ]
  },
  {
   "cell_type": "code",
   "execution_count": null,
   "metadata": {},
   "outputs": [],
   "source": [
    "# Checking the correlation between the different columns and the sales price\n",
    "correlation = dataset.corr();\n",
    "print(correlation[\"SalePrice\"].sort_values(ascending=False).to_string())"
   ]
  },
  {
   "cell_type": "markdown",
   "metadata": {},
   "source": [
    "# Linear Regression\n",
    "This is where we perform linear regression on the data. For this, we use the \"Gross Living Area\" feature in order to predict the sale price. Although \"Overall Quality\" has a higher correlation with sale price, we chose to use Gross Living Area because of how the value, despite being numerical, is an ordinal categorical value between 0 and 10. This does not necessarily make it a bad fit for the data, but it makes it less precise for regression (due to data attempting to fit only specific intervals, rather than using a continuous stream of data)"
   ]
  },
  {
   "cell_type": "code",
   "execution_count": null,
   "metadata": {},
   "outputs": [],
   "source": [
    "from sklearn.model_selection import train_test_split\n",
    "import numpy as np\n",
    "\n",
    "# Setting up the values for regression\n",
    "quality_plot = np.array(dataset[\"Gr Liv Area\"]).reshape(-1, 1)\n",
    "sale_price_plot = np.array(dataset[\"SalePrice\"]).reshape(-1, 1)\n",
    "\n",
    "# Splitting into training and test set\n",
    "x_train, x_test, y_train, y_test = train_test_split(quality_plot, sale_price_plot, test_size=0.2, random_state=42)\n",
    "\n",
    "print(f\"{len(x_train)} train instances + {len(x_test)} test instances\")"
   ]
  },
  {
   "cell_type": "code",
   "execution_count": null,
   "metadata": {},
   "outputs": [],
   "source": [
    "from sklearn.linear_model import LinearRegression\n",
    "import matplotlib.pyplot as plot\n",
    "\n",
    "# Performing linear regression\n",
    "linear_regression = LinearRegression()\n",
    "linear_regression.fit(x_train, y_train)\n",
    "\n",
    "# Predicting the y-test results\n",
    "y_predicted = linear_regression.predict(x_test)\n",
    "\n",
    "# Plotting the test data agains the predicted test result\n",
    "plot.scatter(x_test, y_test)\n",
    "plot.plot(x_test, y_predicted, \"-r\")"
   ]
  },
  {
   "cell_type": "code",
   "execution_count": null,
   "metadata": {},
   "outputs": [],
   "source": [
    "from sklearn.metrics import mean_squared_error\n",
    "\n",
    "y_predicted = linear_regression.predict(x_test)\n",
    "lin_mse = mean_squared_error(y_test, y_predicted)\n",
    "lin_rmse = np.sqrt(lin_mse)\n",
    "lin_rmse"
   ]
  }
 ],
 "metadata": {
  "kernelspec": {
   "display_name": "Python 3",
   "language": "python",
   "name": "python3"
  },
  "language_info": {
   "codemirror_mode": {
    "name": "ipython",
    "version": 3
   },
   "file_extension": ".py",
   "mimetype": "text/x-python",
   "name": "python",
   "nbconvert_exporter": "python",
   "pygments_lexer": "ipython3",
   "version": "3.10.11"
  }
 },
 "nbformat": 4,
 "nbformat_minor": 2
}
